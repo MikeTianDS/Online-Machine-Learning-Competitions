{
 "cells": [
  {
   "cell_type": "code",
   "execution_count": null,
   "metadata": {
    "collapsed": true
   },
   "outputs": [],
   "source": [
    "from __future__ import division\n",
    "import numpy as np\n",
    "import pandas as pd\n",
    "from scipy.stats import ks_2samp\n",
    "import gc\n",
    "import warnings\n",
    "warnings.filterwarnings('ignore')"
   ]
  },
  {
   "cell_type": "code",
   "execution_count": null,
   "metadata": {
    "collapsed": true
   },
   "outputs": [],
   "source": [
    "root_path = '../'  # '/media/xiaoxy/2018-Kaggle-AdTrackingFraud/'"
   ]
  },
  {
   "cell_type": "code",
   "execution_count": null,
   "metadata": {
    "collapsed": true
   },
   "outputs": [],
   "source": [
    "def corr(first_file_path, second_file_path):\n",
    "    # Assuming first column is \"class_name_id\"\n",
    "    first_df = pd.read_csv(first_file_path, index_col=0)\n",
    "    second_df = pd.read_csv(second_file_path, index_col=0)\n",
    "    class_names = ['is_attributed']\n",
    "\n",
    "    for class_name in class_names:\n",
    "        # All correlations\n",
    "        print('Class: %s' % class_name)\n",
    "        print('Pearson\\'s correlation score: %0.6f' % first_df[class_name].corr(second_df[class_name], method='pearson'))\n",
    "        print('Kendall\\'s correlation score: %0.6f' % first_df[class_name].corr(second_df[class_name], method='kendall'))\n",
    "        print('Spearman\\'s correlation score: %0.6f' % first_df[class_name].corr(second_df[class_name], method='spearman'))\n",
    "        ks_stat, p_value = ks_2samp(first_df[class_name].values, second_df[class_name].values)\n",
    "        print('Kolmogorov-Smirnov test: KS-stat=%.6f p-value=%.3e' % (ks_stat, p_value))"
   ]
  },
  {
   "cell_type": "code",
   "execution_count": null,
   "metadata": {
    "collapsed": true
   },
   "outputs": [],
   "source": [
    "###################################### Cal correlation ######################################\n",
    "\n",
    "file1_path = root_path + 'data/output/sub/20180507-lgb-0.981609(r2100).csv'\n",
    "file2_path = root_path + 'data/output/sub/20180506-0.99146(r2000).csv'\n",
    "\n",
    "# Cal correlation between 2 result file\n",
    "corr(file1_path, file2_path)"
   ]
  },
  {
   "cell_type": "code",
   "execution_count": null,
   "metadata": {
    "collapsed": true
   },
   "outputs": [],
   "source": [
    "###################################### Blending ######################################\n",
    "\n",
    "test_files = [file1_path, file2_path]\n",
    "weights = [0.4, 0.6]\n",
    "column_name = 'is_attributed'\n",
    "\n",
    "model_test_data = []\n",
    "for test_file in test_files:\n",
    "    print('Read ' + test_file)\n",
    "    model_test_data.append(pd.read_csv(test_file, encoding='utf-8'))\n",
    "n_models = len(model_test_data)\n",
    "\n",
    "print('Blending...')\n",
    "test_predict_column = [0.] * len(model_test_data[0][column_name])\n",
    "for ind in range(0, n_models):\n",
    "    test_predict_column += model_test_data[ind][column_name] * weights[ind]\n",
    "print('Blend done!')\n",
    "\n",
    "print('Save result...')\n",
    "final_result = model_test_data[0]['click_id']\n",
    "final_result = pd.concat((final_result, pd.DataFrame(\n",
    "    {column_name: test_predict_column})), axis=1)\n",
    "final_result.to_csv(root_path + 'data/output/sub/blend_201805081151.csv', index=False)\n",
    "print('Save result done!')"
   ]
  }
 ],
 "metadata": {
  "kernelspec": {
   "display_name": "Python [default]",
   "language": "python",
   "name": "python2"
  },
  "language_info": {
   "codemirror_mode": {
    "name": "ipython",
    "version": 2
   },
   "file_extension": ".py",
   "mimetype": "text/x-python",
   "name": "python",
   "nbconvert_exporter": "python",
   "pygments_lexer": "ipython2",
   "version": "2.7.13"
  }
 },
 "nbformat": 4,
 "nbformat_minor": 1
}
